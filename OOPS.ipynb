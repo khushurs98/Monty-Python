{
  "nbformat": 4,
  "nbformat_minor": 0,
  "metadata": {
    "colab": {
      "provenance": [],
      "authorship_tag": "ABX9TyNhtISYDwkZVOA0fsMSNZA1",
      "include_colab_link": true
    },
    "kernelspec": {
      "name": "python3",
      "display_name": "Python 3"
    },
    "language_info": {
      "name": "python"
    }
  },
  "cells": [
    {
      "cell_type": "markdown",
      "metadata": {
        "id": "view-in-github",
        "colab_type": "text"
      },
      "source": [
        "<a href=\"https://colab.research.google.com/github/khushurs98/Monty-Python/blob/main/OOPS.ipynb\" target=\"_parent\"><img src=\"https://colab.research.google.com/assets/colab-badge.svg\" alt=\"Open In Colab\"/></a>"
      ]
    },
    {
      "cell_type": "markdown",
      "source": [
        "#**Creating class and objects**"
      ],
      "metadata": {
        "id": "W81RZmiOIM_6"
      }
    },
    {
      "cell_type": "code",
      "source": [
        "class Greeting:\n",
        "  msg=\"Hello world\"\n",
        "  def say_hello(self):\n",
        "    print(self.msg)"
      ],
      "metadata": {
        "id": "vc-FChUQIYWc"
      },
      "execution_count": null,
      "outputs": []
    },
    {
      "cell_type": "code",
      "source": [],
      "metadata": {
        "id": "i8jV76o_IohP"
      },
      "execution_count": null,
      "outputs": []
    },
    {
      "cell_type": "code",
      "source": [
        "class Person:\n",
        "  def __init__(self,name,age,gender):\n",
        "    self.name=name\n",
        "    self.age=age\n",
        "    self.gender=gender\n",
        "  def show_details(self):\n",
        "    print(self.name,self.age,self.gender)\n",
        "    print('My name is',self.name,'and I am',self.age,'years old,I am a',self.gender)\n"
      ],
      "metadata": {
        "id": "22_B6fO_KhKs"
      },
      "execution_count": null,
      "outputs": []
    },
    {
      "cell_type": "code",
      "source": [
        "p1=Person(\"ravi\",23,\"male\")\n",
        "p1.show_details()"
      ],
      "metadata": {
        "colab": {
          "base_uri": "https://localhost:8080/"
        },
        "id": "wmYV-9-DLBAo",
        "outputId": "f3ce70ab-f1b1-4e75-ff0b-b21fa4a7de53"
      },
      "execution_count": null,
      "outputs": [
        {
          "output_type": "stream",
          "name": "stdout",
          "text": [
            "ravi 23 male\n",
            "My name is ravi and I am 23 years old,I am a male\n"
          ]
        }
      ]
    },
    {
      "cell_type": "code",
      "source": [
        "class Car:\n",
        "  def __init__(self,model,color,price):\n",
        "    self.model=model\n",
        "    self.color=color\n",
        "    self.price=price\n",
        "  def show_details(self):\n",
        "    print(self.model,self.color,self.price)\n",
        "mercedes=Car(model,color,price)\n",
        "mercedes.model=\"Mercedes\"\n",
        "mercedes.color=\"red\"\n",
        "mercedes.price=200000\n",
        "mercedes.show_details()"
      ],
      "metadata": {
        "id": "6DBQWCjALHuu"
      },
      "execution_count": null,
      "outputs": []
    },
    {
      "cell_type": "code",
      "source": [
        "class Person:\n",
        "  def __init__(default,name,age,gender):\n",
        "    default.name=name\n",
        "    default.age=age\n",
        "    default.gender=gender\n",
        "  def show_details(default):\n",
        "    print(default.name,default.age,default.gender)\n",
        "    print('My name is',default.name,'and I am',default.age,'years old,I am a',default.gender)\n",
        "ob=Person(\"ravi\",23,\"male\")\n",
        "ob.show_details()\n",
        "\n",
        "\n"
      ],
      "metadata": {
        "colab": {
          "base_uri": "https://localhost:8080/"
        },
        "id": "Xgx_FFYaOTMX",
        "outputId": "9ec4dd22-db00-4d42-d91b-b49cbf74b9af"
      },
      "execution_count": null,
      "outputs": [
        {
          "output_type": "stream",
          "name": "stdout",
          "text": [
            "ravi 23 male\n",
            "My name is ravi and I am 23 years old,I am a male\n"
          ]
        }
      ]
    },
    {
      "cell_type": "code",
      "source": [
        "class Person:\n",
        "    def __init__(self, name, age):\n",
        "        self.name = name\n",
        "        self.age = age\n",
        "    def __str__(self):\n",
        "      return f\"{self.name} is {self.age} years old\"\n",
        "p=Person(\"ravi\",23)\n",
        "print(p)"
      ],
      "metadata": {
        "colab": {
          "base_uri": "https://localhost:8080/"
        },
        "id": "bwRTVD_XP3RE",
        "outputId": "728468a4-1f30-49e7-f059-4c7a704b5c59"
      },
      "execution_count": null,
      "outputs": [
        {
          "output_type": "stream",
          "name": "stdout",
          "text": [
            "ravi is 23 years old\n"
          ]
        }
      ]
    },
    {
      "cell_type": "markdown",
      "source": [
        "##**Types of method :**\n",
        "###1. Instance Method\n",
        "###2. Class Method\n",
        "###3. Static Method"
      ],
      "metadata": {
        "id": "tYdIizChSw2d"
      }
    },
    {
      "cell_type": "code",
      "source": [
        "class Student:\n",
        "  c=0\n",
        "  def __init__(self,name,age):\n",
        "    self.name=name\n",
        "    self.age=age\n",
        "    Student.c+=1\n",
        "  def msg(self):\n",
        "    print('Hello',self.name)\n",
        "  @classmethod\n",
        "  def count(cls):\n",
        "    return cls.c\n",
        "s1=Student('abhi',12)\n",
        "s2=Student('kabhi',23)"
      ],
      "metadata": {
        "id": "wjph-hVeT9JF"
      },
      "execution_count": null,
      "outputs": []
    },
    {
      "cell_type": "code",
      "source": [
        "print(s1.count())\n",
        "print(s2.count())"
      ],
      "metadata": {
        "colab": {
          "base_uri": "https://localhost:8080/"
        },
        "id": "FhcmmuGbYcXr",
        "outputId": "41cbee4b-9ed4-4ad2-b887-9c83dd07d50e"
      },
      "execution_count": null,
      "outputs": [
        {
          "output_type": "stream",
          "name": "stdout",
          "text": [
            "2\n",
            "2\n"
          ]
        }
      ]
    },
    {
      "cell_type": "code",
      "source": [
        "class MathOperation:\n",
        "  @staticmethod\n",
        "  def add(a,b):\n",
        "    return a+b\n",
        "  @staticmethod\n",
        "  def sub(a,b):\n",
        "    return a-b\n",
        "obj=MathOperation()\n",
        "result=obj.add(10,20)\n",
        "result=obj.sub(10,20)\n",
        "print(result)"
      ],
      "metadata": {
        "colab": {
          "base_uri": "https://localhost:8080/"
        },
        "id": "GQD5lwdRZX_s",
        "outputId": "87cd0ecc-c35f-49ef-ce49-ba23b728f03f"
      },
      "execution_count": null,
      "outputs": [
        {
          "output_type": "stream",
          "name": "stdout",
          "text": [
            "-10\n"
          ]
        }
      ]
    },
    {
      "cell_type": "code",
      "source": [
        "class Animal:\n",
        "  name=''\n",
        "  def eat(self):\n",
        "    print('I am eating')\n",
        "class Dog(Animal):\n",
        "  def display(self):\n",
        "    print(\"My name is \"))"
      ],
      "metadata": {
        "id": "7Xcu45Mgc21p"
      },
      "execution_count": null,
      "outputs": []
    },
    {
      "cell_type": "code",
      "source": [
        "#single level inheritance\n",
        "class Person:\n",
        "  def __init__(self,fname,lname):\n",
        "    self.fname=fname\n",
        "    self.lname=lname\n",
        "    print('First name                                                                                                                                                                                                                                                                                                                                                                                                                                                                                                                                                                                                                                                                                                                                                                                                                                                                                                                                                                                                                                                                                                                                                                                                                                    ')/"
      ],
      "metadata": {
        "id": "F-jSUxaU6yWM"
      },
      "execution_count": null,
      "outputs": []
    }
  ]
}