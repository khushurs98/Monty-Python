{
  "nbformat": 4,
  "nbformat_minor": 0,
  "metadata": {
    "colab": {
      "provenance": [],
      "authorship_tag": "ABX9TyNPVBwcM3+33bW06l9VRrfU",
      "include_colab_link": true
    },
    "kernelspec": {
      "name": "python3",
      "display_name": "Python 3"
    },
    "language_info": {
      "name": "python"
    }
  },
  "cells": [
    {
      "cell_type": "markdown",
      "metadata": {
        "id": "view-in-github",
        "colab_type": "text"
      },
      "source": [
        "<a href=\"https://colab.research.google.com/github/khushurs98/Monty-Python/blob/main/DSA/Bit_Operations.ipynb\" target=\"_parent\"><img src=\"https://colab.research.google.com/assets/colab-badge.svg\" alt=\"Open In Colab\"/></a>"
      ]
    },
    {
      "cell_type": "markdown",
      "source": [
        "####**wap to convert given decimal number into binary**"
      ],
      "metadata": {
        "id": "kAm8GWa5jBfm"
      }
    },
    {
      "cell_type": "code",
      "source": [
        "def d2b():\n",
        "  decimal=int(input(\"Enter a number\"))\n",
        "  binary=\"\"\n",
        "  while decimal>0:\n",
        "    binary=str(decimal%2)+binary\n",
        "    decimal=decimal//2\n",
        "  print(binary)\n",
        "d2b()"
      ],
      "metadata": {
        "colab": {
          "base_uri": "https://localhost:8080/"
        },
        "id": "nSe8lGT4sWF2",
        "outputId": "6e07bad6-3351-4135-e0e8-0dd5b61596c8"
      },
      "execution_count": null,
      "outputs": [
        {
          "output_type": "stream",
          "name": "stdout",
          "text": [
            "Enter a number10\n",
            "1010\n"
          ]
        }
      ]
    },
    {
      "cell_type": "code",
      "source": [
        "def D2B(x):\n",
        "  while x>=1:\n",
        "    lst=[]\n",
        "    print(x%2,end='')\n",
        "    x=x//2\n",
        "    lst.append(x)\n",
        "  print(*lst)"
      ],
      "metadata": {
        "id": "kNLrRraNlcsm"
      },
      "execution_count": null,
      "outputs": []
    },
    {
      "cell_type": "code",
      "source": [
        "D2B(int(10))"
      ],
      "metadata": {
        "colab": {
          "base_uri": "https://localhost:8080/"
        },
        "id": "BBKnnUuel6zO",
        "outputId": "41a76c6e-d969-482d-9d4e-1fcbff1b4b21"
      },
      "execution_count": null,
      "outputs": [
        {
          "output_type": "stream",
          "name": "stdout",
          "text": [
            "01010\n"
          ]
        }
      ]
    },
    {
      "cell_type": "code",
      "source": [
        "bin(10)"
      ],
      "metadata": {
        "colab": {
          "base_uri": "https://localhost:8080/",
          "height": 35
        },
        "id": "Sh12J-jDmnoG",
        "outputId": "6ef85711-35f3-45dc-d36c-2f52516ba1ca"
      },
      "execution_count": null,
      "outputs": [
        {
          "output_type": "execute_result",
          "data": {
            "text/plain": [
              "'0b1010'"
            ],
            "application/vnd.google.colaboratory.intrinsic+json": {
              "type": "string"
            }
          },
          "metadata": {},
          "execution_count": 15
        }
      ]
    },
    {
      "cell_type": "code",
      "source": [
        "def binn(x):\n",
        "  x=bin(x)\n",
        "  print(x[2:]) #output without [2:]=0b1010  to remove 0b we use indexing"
      ],
      "metadata": {
        "id": "hzoxwV_Qm0lV"
      },
      "execution_count": null,
      "outputs": []
    },
    {
      "cell_type": "code",
      "source": [
        "binn(10)"
      ],
      "metadata": {
        "colab": {
          "base_uri": "https://localhost:8080/"
        },
        "id": "ZxwgxHTgnLG9",
        "outputId": "1f198459-e951-4f20-8886-e862d7825b8f"
      },
      "execution_count": null,
      "outputs": [
        {
          "output_type": "stream",
          "name": "stdout",
          "text": [
            "1010\n"
          ]
        }
      ]
    },
    {
      "cell_type": "code",
      "source": [
        "def binar(n):\n",
        "  binar_res=''\n",
        "  if n==0:\n",
        "    return 0\n",
        "  while n>0:\n",
        "    binar_res=str(n%2)+binar_res\n",
        "    n=n//2\n",
        "  return binar_res\n",
        "n=int(input(\"Enter \"))\n",
        "print(binar(n))"
      ],
      "metadata": {
        "colab": {
          "base_uri": "https://localhost:8080/"
        },
        "id": "e2xCe5OhnMz9",
        "outputId": "b546bbca-7572-4dd6-aa89-53f1a1ea87f2"
      },
      "execution_count": null,
      "outputs": [
        {
          "output_type": "stream",
          "name": "stdout",
          "text": [
            "Enter 10\n",
            "1010\n"
          ]
        }
      ]
    },
    {
      "cell_type": "markdown",
      "source": [
        "#####**wapp to calculate decimal value of a given binary number**"
      ],
      "metadata": {
        "id": "3WJxtAt8oMSk"
      }
    },
    {
      "cell_type": "code",
      "source": [
        "def b2d(x):\n",
        "  x=str(x)\n",
        "  x=x[::-1]\n",
        "  c,sum=0,0\n",
        "  for i in x:\n",
        "    if i=='1':\n",
        "      sum+=2**c\n",
        "    c+=1\n",
        "  print(sum)"
      ],
      "metadata": {
        "id": "Z-bZ8kuGsRWT"
      },
      "execution_count": null,
      "outputs": []
    },
    {
      "cell_type": "code",
      "source": [
        "b2d(1010)"
      ],
      "metadata": {
        "colab": {
          "base_uri": "https://localhost:8080/"
        },
        "collapsed": true,
        "id": "lKUFh6xguTet",
        "outputId": "873879ad-845b-4adc-bc12-cf0d35d9210f"
      },
      "execution_count": null,
      "outputs": [
        {
          "output_type": "stream",
          "name": "stdout",
          "text": [
            "10\n"
          ]
        }
      ]
    },
    {
      "cell_type": "code",
      "source": [
        "def B2D(n):\n",
        "  #1010\n",
        "  result,power=0,0\n",
        "  while n>0:\n",
        "    result+=(n%10)*(2**power)\n",
        "    power+=1\n",
        "    n=n//10\n",
        "  return result"
      ],
      "metadata": {
        "id": "Ln_RbknkuYMq"
      },
      "execution_count": null,
      "outputs": []
    },
    {
      "cell_type": "code",
      "source": [
        "B2D(1010)"
      ],
      "metadata": {
        "colab": {
          "base_uri": "https://localhost:8080/"
        },
        "id": "-I4O-Et9whDK",
        "outputId": "346f54e2-a2b4-4b48-c6d9-bb408720b201"
      },
      "execution_count": null,
      "outputs": [
        {
          "output_type": "execute_result",
          "data": {
            "text/plain": [
              "10"
            ]
          },
          "metadata": {},
          "execution_count": 65
        }
      ]
    },
    {
      "cell_type": "code",
      "source": [
        "B2D(10101010101010100101)"
      ],
      "metadata": {
        "colab": {
          "base_uri": "https://localhost:8080/"
        },
        "id": "gmp_m_rSwjzq",
        "outputId": "95e71b14-c919-49a1-c257-ba22e58bb6e0"
      },
      "execution_count": null,
      "outputs": [
        {
          "output_type": "execute_result",
          "data": {
            "text/plain": [
              "699045"
            ]
          },
          "metadata": {},
          "execution_count": 67
        }
      ]
    },
    {
      "cell_type": "markdown",
      "source": [
        "#####**Decimal 2 Octal**"
      ],
      "metadata": {
        "id": "6uObzdDwxog1"
      }
    },
    {
      "cell_type": "code",
      "source": [
        "def octar(n):\n",
        "  octar_res=''\n",
        "  if n==0:\n",
        "    return 0\n",
        "  while n>0:\n",
        "    octar_res=str(n%8)+octar_res\n",
        "    n=n//8\n",
        "  return octar_res\n",
        "n=int(input(\"Enter \"))\n",
        "print(octar(n))"
      ],
      "metadata": {
        "colab": {
          "base_uri": "https://localhost:8080/"
        },
        "id": "L1u2sOwgysTM",
        "outputId": "a16d6d40-4ec1-40a2-e6b4-e581907d717c"
      },
      "execution_count": null,
      "outputs": [
        {
          "output_type": "stream",
          "name": "stdout",
          "text": [
            "Enter 123\n",
            "173\n"
          ]
        }
      ]
    },
    {
      "cell_type": "markdown",
      "source": [
        "#####**Octal 2 Decimal**"
      ],
      "metadata": {
        "id": "Dj6CJMgazUE0"
      }
    },
    {
      "cell_type": "markdown",
      "source": [
        "#####**Bitwise Operators**"
      ],
      "metadata": {
        "id": "CbjAjijl-LLO"
      }
    },
    {
      "cell_type": "markdown",
      "source": [
        "1. AND (&)\n",
        "2. OR (|)\n",
        "3. XOR (^)\n",
        "4. NOT (~)\n",
        "5. Left Shift (<<)\n",
        "6. Right Shift (>>)"
      ],
      "metadata": {
        "id": "y2SjmIlF-RKO"
      }
    },
    {
      "cell_type": "markdown",
      "source": [
        "#####**Hexa 2 Decimal**"
      ],
      "metadata": {
        "id": "YjSt7tDoZ1Is"
      }
    },
    {
      "cell_type": "code",
      "source": [
        "def binar(n):\n",
        "  binar_res=''\n",
        "  if n==0:\n",
        "    return 0\n",
        "  while n>0:\n",
        "    binar_res=str(n%16)+binar_res\n",
        "    n=n//16\n",
        "  return binar_res\n",
        "n=int(input(\"Enter \"))\n",
        "print(binar(n))"
      ],
      "metadata": {
        "colab": {
          "base_uri": "https://localhost:8080/"
        },
        "id": "NAVvfMFZi-J0",
        "outputId": "f697bdcf-7685-4cd6-e2d0-e8c3aac4c014"
      },
      "execution_count": null,
      "outputs": [
        {
          "output_type": "stream",
          "name": "stdout",
          "text": [
            "Enter 123\n",
            "711\n"
          ]
        }
      ]
    },
    {
      "cell_type": "code",
      "source": [
        "def d2h(n):\n",
        "  st=''\n",
        "  while n>0:\n",
        "    y=n%16\n",
        "    if y==10:\n",
        "      st+='A'\n",
        "    elif y==11:\n",
        "      st+='B'\n",
        "    elif y==12:\n",
        "      st+='C'\n",
        "    elif y==13:\n",
        "      st+='D'\n",
        "    elif y==14:\n",
        "      st+='E'\n",
        "    elif y==15:\n",
        "      st+='F'\n",
        "    else:\n",
        "      st+=str(y)\n",
        "    n=n//16\n",
        "  return st[::-1]\n"
      ],
      "metadata": {
        "id": "fI5xdh1WjN5P"
      },
      "execution_count": null,
      "outputs": []
    },
    {
      "cell_type": "code",
      "source": [
        "d2h(123)"
      ],
      "metadata": {
        "colab": {
          "base_uri": "https://localhost:8080/",
          "height": 36
        },
        "id": "M41H138nlyaB",
        "outputId": "8d973b3c-d89a-419a-a1d8-85dbb9348308"
      },
      "execution_count": null,
      "outputs": [
        {
          "output_type": "execute_result",
          "data": {
            "text/plain": [
              "'7B'"
            ],
            "application/vnd.google.colaboratory.intrinsic+json": {
              "type": "string"
            }
          },
          "metadata": {},
          "execution_count": 17
        }
      ]
    },
    {
      "cell_type": "code",
      "source": [
        "def hex_val(n):\n",
        "  hex_res=''\n",
        "  hex_digits='0123456789ABCDEF'\n",
        "  if n==0:\n",
        "    return 0\n",
        "  while n>0:\n",
        "    hex_res=hex_digits[n%16]+hex_res\n",
        "    n=n//16\n",
        "  return hex_res\n",
        "n=int(input())\n",
        "print(hex_val(n))"
      ],
      "metadata": {
        "colab": {
          "base_uri": "https://localhost:8080/"
        },
        "id": "PD05oQpfmIM_",
        "outputId": "c8635eb5-1d48-43ea-eced-d11d2b758b08"
      },
      "execution_count": null,
      "outputs": [
        {
          "output_type": "stream",
          "name": "stdout",
          "text": [
            "123\n",
            "7B\n"
          ]
        }
      ]
    },
    {
      "cell_type": "code",
      "source": [
        " hex_val(1212)"
      ],
      "metadata": {
        "colab": {
          "base_uri": "https://localhost:8080/",
          "height": 36
        },
        "id": "oEWp_Zc5oDdC",
        "outputId": "79c9b659-6dc9-499d-88a7-9d124e7a7127"
      },
      "execution_count": null,
      "outputs": [
        {
          "output_type": "execute_result",
          "data": {
            "text/plain": [
              "'4BC'"
            ],
            "application/vnd.google.colaboratory.intrinsic+json": {
              "type": "string"
            }
          },
          "metadata": {},
          "execution_count": 27
        }
      ]
    },
    {
      "cell_type": "code",
      "source": [
        "def tp(x):\n",
        "  if x%2==0:\n",
        "    return 'Yes'\n",
        "  else:\n",
        "    return 'No'"
      ],
      "metadata": {
        "id": "n3rKJa9gpByG"
      },
      "execution_count": null,
      "outputs": []
    },
    {
      "cell_type": "code",
      "source": [
        "tp(12)"
      ],
      "metadata": {
        "colab": {
          "base_uri": "https://localhost:8080/",
          "height": 36
        },
        "id": "pS5Cx4RKuOBp",
        "outputId": "fa1e4891-0e5e-4590-994e-853665cccb7a"
      },
      "execution_count": null,
      "outputs": [
        {
          "output_type": "execute_result",
          "data": {
            "text/plain": [
              "'Yes'"
            ],
            "application/vnd.google.colaboratory.intrinsic+json": {
              "type": "string"
            }
          },
          "metadata": {},
          "execution_count": 35
        }
      ]
    },
    {
      "cell_type": "code",
      "source": [
        "def isPowerofTwo(n):\n",
        "  ct=0\n",
        "  while n>0:\n",
        "    if ((n&1)==1):\n",
        "      ct+=1\n",
        "    n=n>>1\n",
        "  if ct==1:\n",
        "    return True\n",
        "  else:\n",
        "    return False\n",
        "n=int(input())"
      ],
      "metadata": {
        "colab": {
          "base_uri": "https://localhost:8080/"
        },
        "id": "Jyl5WzIkvAnI",
        "outputId": "f055a2ed-4ab9-48fe-8032-e8a05cd7f718"
      },
      "execution_count": null,
      "outputs": [
        {
          "name": "stdout",
          "output_type": "stream",
          "text": [
            "12\n"
          ]
        }
      ]
    },
    {
      "cell_type": "code",
      "source": [
        "isPowerofTwo(n)"
      ],
      "metadata": {
        "colab": {
          "base_uri": "https://localhost:8080/"
        },
        "id": "MT3U0uKwxc7L",
        "outputId": "f7a8256e-6226-4fa1-c6fc-94dcee082907"
      },
      "execution_count": null,
      "outputs": [
        {
          "output_type": "execute_result",
          "data": {
            "text/plain": [
              "False"
            ]
          },
          "metadata": {},
          "execution_count": 42
        }
      ]
    },
    {
      "cell_type": "code",
      "source": [
        "n,pos=map(int,input().split())\n",
        "if((n>>pos)&1==1):\n",
        "  print('Yes')\n",
        "else:\n",
        "  print('No')"
      ],
      "metadata": {
        "colab": {
          "base_uri": "https://localhost:8080/"
        },
        "id": "Rqqe0p3tziqD",
        "outputId": "593d7f7d-3857-4518-c92b-ff7538249c57"
      },
      "execution_count": null,
      "outputs": [
        {
          "output_type": "stream",
          "name": "stdout",
          "text": [
            "24 3\n",
            "Yes\n"
          ]
        }
      ]
    },
    {
      "cell_type": "code",
      "source": [],
      "metadata": {
        "id": "y1sClWBO50dk"
      },
      "execution_count": null,
      "outputs": []
    }
  ]
}